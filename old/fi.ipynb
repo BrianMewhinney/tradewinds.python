{
 "cells": [
  {
   "cell_type": "code",
   "execution_count": 8,
   "id": "b705ef37-2ee7-4d43-9c76-06cbdb08db7d",
   "metadata": {},
   "outputs": [
    {
     "name": "stderr",
     "output_type": "stream",
     "text": [
      "/Users/brianmewhinney/dev/tradewinds-python/env/lib/python3.9/site-packages/joblib/externals/loky/process_executor.py:752: UserWarning: A worker stopped while some jobs were given to the executor. This can be caused by a too short worker timeout or by a memory leak.\n",
      "  warnings.warn(\n"
     ]
    },
    {
     "name": "stdout",
     "output_type": "stream",
     "text": [
      "Best Parameters: {'colsample_bytree': 0.8, 'learning_rate': 0.01, 'max_depth': 3, 'n_estimators': 100, 'subsample': 1.0}\n",
      "Test Accuracy: 0.60\n",
      "XGBoost feature importance:\n",
      "Feature 1: 0.1670\n",
      "Feature 0: 0.1194\n",
      "Feature 3: 0.0593\n",
      "Feature 2: 0.0488\n",
      "Feature 20: 0.0422\n",
      "Feature 31: 0.0346\n",
      "Feature 14: 0.0325\n",
      "Feature 16: 0.0322\n",
      "Feature 11: 0.0316\n",
      "Feature 25: 0.0301\n",
      "Feature 27: 0.0285\n",
      "Feature 4: 0.0268\n",
      "Feature 21: 0.0267\n",
      "Feature 8: 0.0259\n",
      "Feature 10: 0.0246\n",
      "Feature 26: 0.0231\n",
      "Feature 24: 0.0225\n",
      "Feature 22: 0.0214\n",
      "Feature 29: 0.0204\n",
      "Feature 28: 0.0197\n",
      "Feature 13: 0.0190\n",
      "Feature 12: 0.0186\n",
      "Feature 19: 0.0172\n",
      "Feature 17: 0.0171\n",
      "Feature 30: 0.0167\n",
      "Feature 18: 0.0167\n",
      "Feature 6: 0.0153\n",
      "Feature 5: 0.0145\n",
      "Feature 7: 0.0097\n",
      "Feature 9: 0.0065\n",
      "Feature 15: 0.0057\n",
      "Feature 23: 0.0056\n"
     ]
    }
   ],
   "source": [
    "import pandas as pd\n",
    "import numpy as np\n",
    "from sklearn.model_selection import train_test_split, GridSearchCV\n",
    "from sklearn.preprocessing import StandardScaler, MinMaxScaler\n",
    "from sklearn.metrics import accuracy_score\n",
    "import xgboost as xgb\n",
    "\n",
    "# Load data\n",
    "X = pd.read_csv('/Users/brianmewhinney/dev/tradewinds-python/data/8/x.csv').values\n",
    "y = pd.read_csv('/Users/brianmewhinney/dev/tradewinds-python/data/8/y.csv').values.flatten()\n",
    "\n",
    "# Split data\n",
    "X_train, X_test, y_train, y_test = train_test_split(X, y, test_size=0.2, random_state=42)\n",
    "\n",
    "# Scale data\n",
    "scaler = MinMaxScaler()\n",
    "X_resampled = scaler.fit_transform(X_train)\n",
    "\n",
    "# Grid search for best parameters\n",
    "param_grid = {\n",
    "    'n_estimators': [100, 200, 300],\n",
    "    'max_depth': [3, 5, 7],\n",
    "    'learning_rate': [0.005, 0.01, 0.1, 0.2],\n",
    "    'subsample': [0.8, 1.0],\n",
    "    'colsample_bytree': [0.6, 0.8, 1.0]\n",
    "}\n",
    "\n",
    "grid_search = GridSearchCV(xgb.XGBClassifier(random_state=42, eval_metric='mlogloss'), \n",
    "                           param_grid, cv=5, n_jobs=-1)\n",
    "grid_search.fit(X_resampled, y_train)\n",
    "print(\"Best Parameters:\", grid_search.best_params_)\n",
    "\n",
    "# Evaluate best model\n",
    "best_model = grid_search.best_estimator_\n",
    "y_pred = best_model.predict(scaler.transform(X_test))\n",
    "accuracy = accuracy_score(y_test, y_pred)\n",
    "print(f'Test Accuracy: {accuracy:.2f}')\n",
    "\n",
    "# Feature importance\n",
    "importances = best_model.feature_importances_\n",
    "sorted_idx = np.argsort(importances)[::-1]\n",
    "print(\"XGBoost feature importance:\")\n",
    "for idx in sorted_idx:\n",
    "    print(f\"Feature {idx}: {importances[idx]:.4f}\")\n"
   ]
  },
  {
   "cell_type": "code",
   "execution_count": null,
   "id": "7a3c75af-f9dc-4981-a913-b0b885a695fe",
   "metadata": {},
   "outputs": [],
   "source": []
  },
  {
   "cell_type": "code",
   "execution_count": null,
   "id": "5e19dae3-8fae-4f46-93ca-c4db67981c47",
   "metadata": {},
   "outputs": [],
   "source": []
  }
 ],
 "metadata": {
  "kernelspec": {
   "display_name": "Python 3 (ipykernel)",
   "language": "python",
   "name": "python3"
  },
  "language_info": {
   "codemirror_mode": {
    "name": "ipython",
    "version": 3
   },
   "file_extension": ".py",
   "mimetype": "text/x-python",
   "name": "python",
   "nbconvert_exporter": "python",
   "pygments_lexer": "ipython3",
   "version": "3.9.19"
  }
 },
 "nbformat": 4,
 "nbformat_minor": 5
}
